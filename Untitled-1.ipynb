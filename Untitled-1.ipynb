{
 "cells": [
  {
   "cell_type": "code",
   "execution_count": 1,
   "metadata": {},
   "outputs": [
    {
     "name": "stdout",
     "output_type": "stream",
     "text": [
      "Requirement already satisfied: plotly in c:\\users\\dell\\appdata\\local\\packages\\pythonsoftwarefoundation.python.3.11_qbz5n2kfra8p0\\localcache\\local-packages\\python311\\site-packages (5.24.0)\n",
      "Requirement already satisfied: pandas in c:\\users\\dell\\appdata\\local\\packages\\pythonsoftwarefoundation.python.3.11_qbz5n2kfra8p0\\localcache\\local-packages\\python311\\site-packages (2.2.2)\n",
      "Requirement already satisfied: tenacity>=6.2.0 in c:\\users\\dell\\appdata\\local\\packages\\pythonsoftwarefoundation.python.3.11_qbz5n2kfra8p0\\localcache\\local-packages\\python311\\site-packages (from plotly) (9.0.0)\n",
      "Requirement already satisfied: packaging in c:\\users\\dell\\appdata\\local\\packages\\pythonsoftwarefoundation.python.3.11_qbz5n2kfra8p0\\localcache\\local-packages\\python311\\site-packages (from plotly) (24.1)\n",
      "Requirement already satisfied: numpy>=1.23.2 in c:\\users\\dell\\appdata\\local\\packages\\pythonsoftwarefoundation.python.3.11_qbz5n2kfra8p0\\localcache\\local-packages\\python311\\site-packages (from pandas) (1.26.4)\n",
      "Requirement already satisfied: python-dateutil>=2.8.2 in c:\\users\\dell\\appdata\\local\\packages\\pythonsoftwarefoundation.python.3.11_qbz5n2kfra8p0\\localcache\\local-packages\\python311\\site-packages (from pandas) (2.9.0.post0)\n",
      "Requirement already satisfied: pytz>=2020.1 in c:\\users\\dell\\appdata\\local\\packages\\pythonsoftwarefoundation.python.3.11_qbz5n2kfra8p0\\localcache\\local-packages\\python311\\site-packages (from pandas) (2024.1)\n",
      "Requirement already satisfied: tzdata>=2022.7 in c:\\users\\dell\\appdata\\local\\packages\\pythonsoftwarefoundation.python.3.11_qbz5n2kfra8p0\\localcache\\local-packages\\python311\\site-packages (from pandas) (2024.1)\n",
      "Requirement already satisfied: six>=1.5 in c:\\users\\dell\\appdata\\local\\packages\\pythonsoftwarefoundation.python.3.11_qbz5n2kfra8p0\\localcache\\local-packages\\python311\\site-packages (from python-dateutil>=2.8.2->pandas) (1.16.0)\n",
      "Note: you may need to restart the kernel to use updated packages.\n"
     ]
    },
    {
     "name": "stderr",
     "output_type": "stream",
     "text": [
      "\n",
      "[notice] A new release of pip is available: 24.0 -> 24.2\n",
      "[notice] To update, run: C:\\Users\\DELL\\AppData\\Local\\Microsoft\\WindowsApps\\PythonSoftwareFoundation.Python.3.11_qbz5n2kfra8p0\\python.exe -m pip install --upgrade pip\n"
     ]
    }
   ],
   "source": [
    "pip install --upgrade plotly pandas\n"
   ]
  },
  {
   "cell_type": "code",
   "execution_count": 2,
   "metadata": {},
   "outputs": [
    {
     "name": "stderr",
     "output_type": "stream",
     "text": [
      "C:\\Users\\DELL\\AppData\\Local\\Temp\\ipykernel_24916\\2422519926.py:2: UserWarning: \n",
      "The dash_core_components package is deprecated. Please replace\n",
      "`import dash_core_components as dcc` with `from dash import dcc`\n",
      "  import dash_core_components as dcc\n",
      "C:\\Users\\DELL\\AppData\\Local\\Temp\\ipykernel_24916\\2422519926.py:3: UserWarning: \n",
      "The dash_html_components package is deprecated. Please replace\n",
      "`import dash_html_components as html` with `from dash import html`\n",
      "  import dash_html_components as html\n",
      "C:\\Users\\DELL\\AppData\\Local\\Packages\\PythonSoftwareFoundation.Python.3.11_qbz5n2kfra8p0\\LocalCache\\local-packages\\Python311\\site-packages\\tqdm\\auto.py:21: TqdmWarning: IProgress not found. Please update jupyter and ipywidgets. See https://ipywidgets.readthedocs.io/en/stable/user_install.html\n",
      "  from .autonotebook import tqdm as notebook_tqdm\n"
     ]
    }
   ],
   "source": [
    "import dash\n",
    "import dash_core_components as dcc\n",
    "import dash_html_components as html\n",
    "import pandas as pd\n",
    "import numpy as np \n",
    "import matplotlib.pyplot as plt \n",
    "import seaborn as sns \n",
    "import ydata_profiling \n",
    "from datetime import datetime\n",
    "import plotly.express as px\n",
    "import plotly.io as pio \n",
    "import nbformat \n",
    "from dash.dependencies import Input, Output\n",
    "import geopandas"
   ]
  },
  {
   "cell_type": "code",
   "execution_count": 3,
   "metadata": {},
   "outputs": [],
   "source": [
    "data1 = pd.read_csv('country_wise_latest.csv')\n",
    "data2 = pd.read_csv('covid_19_clean_complete.csv')\n",
    "data3 = pd.read_csv('worldometer_data.csv')\n",
    "data4 = pd.read_csv('usa_county_wise.csv')\n",
    "data5 = pd.read_csv('full_grouped.csv')\n",
    "data6 = pd.read_csv('day_wise.csv')"
   ]
  },
  {
   "cell_type": "code",
   "execution_count": 4,
   "metadata": {},
   "outputs": [],
   "source": [
    "#data1.isnull().sum()\n",
    "#data2.isnull().sum()\n",
    "#data3.isnull().sum()\n",
    "#data4.isnull().sum()\n",
    "#data5.isnull().sum()\n",
    "#data6.isnull().sum()"
   ]
  },
  {
   "cell_type": "code",
   "execution_count": 5,
   "metadata": {},
   "outputs": [
    {
     "name": "stdout",
     "output_type": "stream",
     "text": [
      "0\n"
     ]
    },
    {
     "name": "stderr",
     "output_type": "stream",
     "text": [
      "C:\\Users\\DELL\\AppData\\Local\\Temp\\ipykernel_24916\\2413857317.py:2: FutureWarning: A value is trying to be set on a copy of a DataFrame or Series through chained assignment using an inplace method.\n",
      "The behavior will change in pandas 3.0. This inplace method will never work because the intermediate object on which we are setting values always behaves as a copy.\n",
      "\n",
      "For example, when doing 'df[col].method(value, inplace=True)', try using 'df.method({col: value}, inplace=True)' or df[col] = df[col].method(value) instead, to perform the operation inplace on the original object.\n",
      "\n",
      "\n",
      "  data2['Province/State'].fillna(mode_value, inplace=True)\n"
     ]
    }
   ],
   "source": [
    "mode_value = data2['Province/State'].mode()[0]\n",
    "data2['Province/State'].fillna(mode_value, inplace=True)\n",
    "print(data2['Province/State'].isnull().sum())"
   ]
  },
  {
   "cell_type": "code",
   "execution_count": 6,
   "metadata": {},
   "outputs": [
    {
     "data": {
      "text/plain": [
       "Country/Region      False\n",
       "Continent            True\n",
       "Population           True\n",
       "TotalCases          False\n",
       "NewCases             True\n",
       "TotalDeaths          True\n",
       "NewDeaths            True\n",
       "TotalRecovered       True\n",
       "NewRecovered         True\n",
       "ActiveCases          True\n",
       "Serious,Critical     True\n",
       "Tot Cases/1M pop     True\n",
       "Deaths/1M pop        True\n",
       "TotalTests           True\n",
       "Tests/1M pop         True\n",
       "WHO Region           True\n",
       "dtype: bool"
      ]
     },
     "execution_count": 6,
     "metadata": {},
     "output_type": "execute_result"
    }
   ],
   "source": [
    "coulm_with_null3 =data3.isnull().any()\n",
    "coulm_with_null3"
   ]
  },
  {
   "cell_type": "code",
   "execution_count": 7,
   "metadata": {},
   "outputs": [
    {
     "name": "stderr",
     "output_type": "stream",
     "text": [
      "C:\\Users\\DELL\\AppData\\Local\\Temp\\ipykernel_24916\\3618620102.py:4: FutureWarning: A value is trying to be set on a copy of a DataFrame or Series through chained assignment using an inplace method.\n",
      "The behavior will change in pandas 3.0. This inplace method will never work because the intermediate object on which we are setting values always behaves as a copy.\n",
      "\n",
      "For example, when doing 'df[col].method(value, inplace=True)', try using 'df.method({col: value}, inplace=True)' or df[col] = df[col].method(value) instead, to perform the operation inplace on the original object.\n",
      "\n",
      "\n",
      "  data3[column].fillna(mean_value, inplace=True)\n"
     ]
    }
   ],
   "source": [
    "columns = ['Population','NewCases','TotalDeaths','NewDeaths','TotalRecovered','NewRecovered','ActiveCases','Serious,Critical','Tot Cases/1M pop','Deaths/1M pop','TotalTests','Tests/1M pop']\n",
    "for column in columns:\n",
    "    mean_value = data3[column].mean()\n",
    "    data3[column].fillna(mean_value, inplace=True)\n"
   ]
  },
  {
   "cell_type": "code",
   "execution_count": 8,
   "metadata": {},
   "outputs": [
    {
     "data": {
      "text/plain": [
       "UID               False\n",
       "iso2              False\n",
       "iso3              False\n",
       "code3             False\n",
       "FIPS               True\n",
       "Admin2             True\n",
       "Province_State    False\n",
       "Country_Region    False\n",
       "Lat               False\n",
       "Long_             False\n",
       "Combined_Key      False\n",
       "Date              False\n",
       "Confirmed         False\n",
       "Deaths            False\n",
       "dtype: bool"
      ]
     },
     "execution_count": 8,
     "metadata": {},
     "output_type": "execute_result"
    }
   ],
   "source": [
    "coulm_with_null4 =data4.isnull().any()\n",
    "coulm_with_null4\n"
   ]
  },
  {
   "cell_type": "code",
   "execution_count": 9,
   "metadata": {},
   "outputs": [
    {
     "name": "stderr",
     "output_type": "stream",
     "text": [
      "C:\\Users\\DELL\\AppData\\Local\\Temp\\ipykernel_24916\\3596960467.py:3: FutureWarning: A value is trying to be set on a copy of a DataFrame or Series through chained assignment using an inplace method.\n",
      "The behavior will change in pandas 3.0. This inplace method will never work because the intermediate object on which we are setting values always behaves as a copy.\n",
      "\n",
      "For example, when doing 'df[col].method(value, inplace=True)', try using 'df.method({col: value}, inplace=True)' or df[col] = df[col].method(value) instead, to perform the operation inplace on the original object.\n",
      "\n",
      "\n",
      "  data3[colum].fillna(mode_value,inplace=True)\n",
      "C:\\Users\\DELL\\AppData\\Local\\Temp\\ipykernel_24916\\3596960467.py:7: FutureWarning: A value is trying to be set on a copy of a DataFrame or Series through chained assignment using an inplace method.\n",
      "The behavior will change in pandas 3.0. This inplace method will never work because the intermediate object on which we are setting values always behaves as a copy.\n",
      "\n",
      "For example, when doing 'df[col].method(value, inplace=True)', try using 'df.method({col: value}, inplace=True)' or df[col] = df[col].method(value) instead, to perform the operation inplace on the original object.\n",
      "\n",
      "\n",
      "  data4[column_name].fillna(most_frequent_value, inplace=True)\n"
     ]
    }
   ],
   "source": [
    "colum = 'WHO Region'\n",
    "mode_value = data3[colum].mode()[0]\n",
    "data3[colum].fillna(mode_value,inplace=True)\n",
    "\n",
    "column_name = 'Admin2'\n",
    "most_frequent_value = data4[column_name].mode()[0]\n",
    "data4[column_name].fillna(most_frequent_value, inplace=True)\n",
    "\n"
   ]
  },
  {
   "cell_type": "code",
   "execution_count": 10,
   "metadata": {},
   "outputs": [
    {
     "data": {
      "text/plain": [
       "Country/Region      0\n",
       "Continent           1\n",
       "Population          0\n",
       "TotalCases          0\n",
       "NewCases            0\n",
       "TotalDeaths         0\n",
       "NewDeaths           0\n",
       "TotalRecovered      0\n",
       "NewRecovered        0\n",
       "ActiveCases         0\n",
       "Serious,Critical    0\n",
       "Tot Cases/1M pop    0\n",
       "Deaths/1M pop       0\n",
       "TotalTests          0\n",
       "Tests/1M pop        0\n",
       "WHO Region          0\n",
       "dtype: int64"
      ]
     },
     "execution_count": 10,
     "metadata": {},
     "output_type": "execute_result"
    }
   ],
   "source": [
    "data3.isnull().sum()\n"
   ]
  },
  {
   "cell_type": "code",
   "execution_count": 11,
   "metadata": {},
   "outputs": [
    {
     "data": {
      "text/html": [
       "<div>\n",
       "<style scoped>\n",
       "    .dataframe tbody tr th:only-of-type {\n",
       "        vertical-align: middle;\n",
       "    }\n",
       "\n",
       "    .dataframe tbody tr th {\n",
       "        vertical-align: top;\n",
       "    }\n",
       "\n",
       "    .dataframe thead th {\n",
       "        text-align: right;\n",
       "    }\n",
       "</style>\n",
       "<table border=\"1\" class=\"dataframe\">\n",
       "  <thead>\n",
       "    <tr style=\"text-align: right;\">\n",
       "      <th></th>\n",
       "      <th>Country/Region</th>\n",
       "      <th>Continent</th>\n",
       "      <th>Population</th>\n",
       "      <th>TotalCases</th>\n",
       "      <th>NewCases</th>\n",
       "      <th>TotalDeaths</th>\n",
       "      <th>NewDeaths</th>\n",
       "      <th>TotalRecovered</th>\n",
       "      <th>NewRecovered</th>\n",
       "      <th>ActiveCases</th>\n",
       "      <th>Serious,Critical</th>\n",
       "      <th>Tot Cases/1M pop</th>\n",
       "      <th>Deaths/1M pop</th>\n",
       "      <th>TotalTests</th>\n",
       "      <th>Tests/1M pop</th>\n",
       "      <th>WHO Region</th>\n",
       "    </tr>\n",
       "  </thead>\n",
       "  <tbody>\n",
       "    <tr>\n",
       "      <th>0</th>\n",
       "      <td>USA</td>\n",
       "      <td>North America</td>\n",
       "      <td>3.311981e+08</td>\n",
       "      <td>5032179</td>\n",
       "      <td>1980.5</td>\n",
       "      <td>162804.0</td>\n",
       "      <td>300.0</td>\n",
       "      <td>2.576668e+06</td>\n",
       "      <td>1706.0</td>\n",
       "      <td>2.292707e+06</td>\n",
       "      <td>18296.0</td>\n",
       "      <td>15194.0</td>\n",
       "      <td>492.0</td>\n",
       "      <td>63139605.0</td>\n",
       "      <td>190640.0</td>\n",
       "      <td>Americas</td>\n",
       "    </tr>\n",
       "    <tr>\n",
       "      <th>1</th>\n",
       "      <td>Brazil</td>\n",
       "      <td>South America</td>\n",
       "      <td>2.127107e+08</td>\n",
       "      <td>2917562</td>\n",
       "      <td>1980.5</td>\n",
       "      <td>98644.0</td>\n",
       "      <td>300.0</td>\n",
       "      <td>2.047660e+06</td>\n",
       "      <td>1706.0</td>\n",
       "      <td>7.712580e+05</td>\n",
       "      <td>8318.0</td>\n",
       "      <td>13716.0</td>\n",
       "      <td>464.0</td>\n",
       "      <td>13206188.0</td>\n",
       "      <td>62085.0</td>\n",
       "      <td>Americas</td>\n",
       "    </tr>\n",
       "    <tr>\n",
       "      <th>2</th>\n",
       "      <td>India</td>\n",
       "      <td>Asia</td>\n",
       "      <td>1.381345e+09</td>\n",
       "      <td>2025409</td>\n",
       "      <td>1980.5</td>\n",
       "      <td>41638.0</td>\n",
       "      <td>300.0</td>\n",
       "      <td>1.377384e+06</td>\n",
       "      <td>1706.0</td>\n",
       "      <td>6.063870e+05</td>\n",
       "      <td>8944.0</td>\n",
       "      <td>1466.0</td>\n",
       "      <td>30.0</td>\n",
       "      <td>22149351.0</td>\n",
       "      <td>16035.0</td>\n",
       "      <td>South-EastAsia</td>\n",
       "    </tr>\n",
       "    <tr>\n",
       "      <th>3</th>\n",
       "      <td>Russia</td>\n",
       "      <td>Europe</td>\n",
       "      <td>1.459409e+08</td>\n",
       "      <td>871894</td>\n",
       "      <td>1980.5</td>\n",
       "      <td>14606.0</td>\n",
       "      <td>300.0</td>\n",
       "      <td>6.763570e+05</td>\n",
       "      <td>1706.0</td>\n",
       "      <td>1.809310e+05</td>\n",
       "      <td>2300.0</td>\n",
       "      <td>5974.0</td>\n",
       "      <td>100.0</td>\n",
       "      <td>29716907.0</td>\n",
       "      <td>203623.0</td>\n",
       "      <td>Europe</td>\n",
       "    </tr>\n",
       "    <tr>\n",
       "      <th>4</th>\n",
       "      <td>South Africa</td>\n",
       "      <td>Africa</td>\n",
       "      <td>5.938157e+07</td>\n",
       "      <td>538184</td>\n",
       "      <td>1980.5</td>\n",
       "      <td>9604.0</td>\n",
       "      <td>300.0</td>\n",
       "      <td>3.873160e+05</td>\n",
       "      <td>1706.0</td>\n",
       "      <td>1.412640e+05</td>\n",
       "      <td>539.0</td>\n",
       "      <td>9063.0</td>\n",
       "      <td>162.0</td>\n",
       "      <td>3149807.0</td>\n",
       "      <td>53044.0</td>\n",
       "      <td>Africa</td>\n",
       "    </tr>\n",
       "    <tr>\n",
       "      <th>5</th>\n",
       "      <td>Mexico</td>\n",
       "      <td>North America</td>\n",
       "      <td>1.290662e+08</td>\n",
       "      <td>462690</td>\n",
       "      <td>6590.0</td>\n",
       "      <td>50517.0</td>\n",
       "      <td>819.0</td>\n",
       "      <td>3.088480e+05</td>\n",
       "      <td>4140.0</td>\n",
       "      <td>1.033250e+05</td>\n",
       "      <td>3987.0</td>\n",
       "      <td>3585.0</td>\n",
       "      <td>391.0</td>\n",
       "      <td>1056915.0</td>\n",
       "      <td>8189.0</td>\n",
       "      <td>Americas</td>\n",
       "    </tr>\n",
       "    <tr>\n",
       "      <th>6</th>\n",
       "      <td>Peru</td>\n",
       "      <td>South America</td>\n",
       "      <td>3.301632e+07</td>\n",
       "      <td>455409</td>\n",
       "      <td>1980.5</td>\n",
       "      <td>20424.0</td>\n",
       "      <td>300.0</td>\n",
       "      <td>3.103370e+05</td>\n",
       "      <td>1706.0</td>\n",
       "      <td>1.246480e+05</td>\n",
       "      <td>1426.0</td>\n",
       "      <td>13793.0</td>\n",
       "      <td>619.0</td>\n",
       "      <td>2493429.0</td>\n",
       "      <td>75521.0</td>\n",
       "      <td>Americas</td>\n",
       "    </tr>\n",
       "    <tr>\n",
       "      <th>7</th>\n",
       "      <td>Chile</td>\n",
       "      <td>South America</td>\n",
       "      <td>1.913251e+07</td>\n",
       "      <td>366671</td>\n",
       "      <td>1980.5</td>\n",
       "      <td>9889.0</td>\n",
       "      <td>300.0</td>\n",
       "      <td>3.401680e+05</td>\n",
       "      <td>1706.0</td>\n",
       "      <td>1.661400e+04</td>\n",
       "      <td>1358.0</td>\n",
       "      <td>19165.0</td>\n",
       "      <td>517.0</td>\n",
       "      <td>1760615.0</td>\n",
       "      <td>92022.0</td>\n",
       "      <td>Americas</td>\n",
       "    </tr>\n",
       "    <tr>\n",
       "      <th>8</th>\n",
       "      <td>Colombia</td>\n",
       "      <td>South America</td>\n",
       "      <td>5.093626e+07</td>\n",
       "      <td>357710</td>\n",
       "      <td>1980.5</td>\n",
       "      <td>11939.0</td>\n",
       "      <td>300.0</td>\n",
       "      <td>1.923550e+05</td>\n",
       "      <td>1706.0</td>\n",
       "      <td>1.534160e+05</td>\n",
       "      <td>1493.0</td>\n",
       "      <td>7023.0</td>\n",
       "      <td>234.0</td>\n",
       "      <td>1801835.0</td>\n",
       "      <td>35374.0</td>\n",
       "      <td>Americas</td>\n",
       "    </tr>\n",
       "    <tr>\n",
       "      <th>9</th>\n",
       "      <td>Spain</td>\n",
       "      <td>Europe</td>\n",
       "      <td>4.675665e+07</td>\n",
       "      <td>354530</td>\n",
       "      <td>1980.5</td>\n",
       "      <td>28500.0</td>\n",
       "      <td>300.0</td>\n",
       "      <td>5.887898e+04</td>\n",
       "      <td>1706.0</td>\n",
       "      <td>2.766433e+04</td>\n",
       "      <td>617.0</td>\n",
       "      <td>7582.0</td>\n",
       "      <td>610.0</td>\n",
       "      <td>7064329.0</td>\n",
       "      <td>151087.0</td>\n",
       "      <td>Europe</td>\n",
       "    </tr>\n",
       "  </tbody>\n",
       "</table>\n",
       "</div>"
      ],
      "text/plain": [
       "  Country/Region      Continent    Population  TotalCases  NewCases  \\\n",
       "0            USA  North America  3.311981e+08     5032179    1980.5   \n",
       "1         Brazil  South America  2.127107e+08     2917562    1980.5   \n",
       "2          India           Asia  1.381345e+09     2025409    1980.5   \n",
       "3         Russia         Europe  1.459409e+08      871894    1980.5   \n",
       "4   South Africa         Africa  5.938157e+07      538184    1980.5   \n",
       "5         Mexico  North America  1.290662e+08      462690    6590.0   \n",
       "6           Peru  South America  3.301632e+07      455409    1980.5   \n",
       "7          Chile  South America  1.913251e+07      366671    1980.5   \n",
       "8       Colombia  South America  5.093626e+07      357710    1980.5   \n",
       "9          Spain         Europe  4.675665e+07      354530    1980.5   \n",
       "\n",
       "   TotalDeaths  NewDeaths  TotalRecovered  NewRecovered   ActiveCases  \\\n",
       "0     162804.0      300.0    2.576668e+06        1706.0  2.292707e+06   \n",
       "1      98644.0      300.0    2.047660e+06        1706.0  7.712580e+05   \n",
       "2      41638.0      300.0    1.377384e+06        1706.0  6.063870e+05   \n",
       "3      14606.0      300.0    6.763570e+05        1706.0  1.809310e+05   \n",
       "4       9604.0      300.0    3.873160e+05        1706.0  1.412640e+05   \n",
       "5      50517.0      819.0    3.088480e+05        4140.0  1.033250e+05   \n",
       "6      20424.0      300.0    3.103370e+05        1706.0  1.246480e+05   \n",
       "7       9889.0      300.0    3.401680e+05        1706.0  1.661400e+04   \n",
       "8      11939.0      300.0    1.923550e+05        1706.0  1.534160e+05   \n",
       "9      28500.0      300.0    5.887898e+04        1706.0  2.766433e+04   \n",
       "\n",
       "   Serious,Critical  Tot Cases/1M pop  Deaths/1M pop  TotalTests  \\\n",
       "0           18296.0           15194.0          492.0  63139605.0   \n",
       "1            8318.0           13716.0          464.0  13206188.0   \n",
       "2            8944.0            1466.0           30.0  22149351.0   \n",
       "3            2300.0            5974.0          100.0  29716907.0   \n",
       "4             539.0            9063.0          162.0   3149807.0   \n",
       "5            3987.0            3585.0          391.0   1056915.0   \n",
       "6            1426.0           13793.0          619.0   2493429.0   \n",
       "7            1358.0           19165.0          517.0   1760615.0   \n",
       "8            1493.0            7023.0          234.0   1801835.0   \n",
       "9             617.0            7582.0          610.0   7064329.0   \n",
       "\n",
       "   Tests/1M pop      WHO Region  \n",
       "0      190640.0        Americas  \n",
       "1       62085.0        Americas  \n",
       "2       16035.0  South-EastAsia  \n",
       "3      203623.0          Europe  \n",
       "4       53044.0          Africa  \n",
       "5        8189.0        Americas  \n",
       "6       75521.0        Americas  \n",
       "7       92022.0        Americas  \n",
       "8       35374.0        Americas  \n",
       "9      151087.0          Europe  "
      ]
     },
     "execution_count": 11,
     "metadata": {},
     "output_type": "execute_result"
    }
   ],
   "source": [
    "data3.head(10)\n"
   ]
  },
  {
   "cell_type": "code",
   "execution_count": 40,
   "metadata": {},
   "outputs": [
    {
     "data": {
      "text/html": [
       "\n",
       "        <iframe\n",
       "            width=\"100%\"\n",
       "            height=\"650\"\n",
       "            src=\"http://127.0.0.1:8051/\"\n",
       "            frameborder=\"0\"\n",
       "            allowfullscreen\n",
       "            \n",
       "        ></iframe>\n",
       "        "
      ],
      "text/plain": [
       "<IPython.lib.display.IFrame at 0x2013b39dcd0>"
      ]
     },
     "metadata": {},
     "output_type": "display_data"
    }
   ],
   "source": [
    "#reference = data6.set_index(['TotalDeaths', 'Date'])['New_Data']\n",
    "#data3['New_Data'] = data3.set_index(['TotalDeaths', 'Date']).index.map(reference)\n",
    "#merged_data = pd.merge(data3, data6, on=['TotalDeaths','Date'], how='inner')\n",
    "#new_data = new_data.dropna(subset=['TotalDeaths', 'TotalCases', 'Population', 'Date', 'Continent'])\n",
    "\n",
    "fig = px.scatter_geo(data3,\n",
    "                        locations='Country/Region',\n",
    "                        locationmode='country names',\n",
    "                        color='Continent',\n",
    "                        size='TotalCases',\n",
    "                        hover_name='Country/Region',\n",
    "                        projection='natural earth',\n",
    "                        title='COVID-19 Total Cases by Country')\n",
    "fig2 = px.bar(data3, x='Country/Region', y='TotalDeaths')\n",
    "fig3 = px.pie(data1, values='Recovered',names='Country/Region',title='Recovery Rate')\n",
    "fig4 = px.scatter(data3,\n",
    "                    x='TotalDeaths',\n",
    "                    y='TotalCases',\n",
    "                    #animation_frame='TotalRecovered',\n",
    "                    animation_group='Country/Region',\n",
    "                    size='Population',color= 'Continent',\n",
    "                    hover_name='Country/Region',\n",
    "                    facet_col='Continent',\n",
    "                    log_x=True,size_max=45,range_x=[100,1000],range_y=[100,60000])\n",
    "#fig5=px.bar(data4,x='Deaths',color='Confirmed',title='nnnnnn')\n",
    "\n",
    "app = dash.Dash('COVID')\n",
    "\n",
    "app.layout = html.Div([ \n",
    "    html.H1(\"COVID-19 Dashboard\",style={'fontSize':'48px','textAlign':'center'}),\n",
    "    dcc.Graph(figure=fig),\n",
    "    dcc.Graph(figure=fig2),\n",
    "    dcc.Graph(figure=fig3,),\n",
    "    dcc.Graph(figure=fig4),\n",
    "    #dcc.Graph(figure=fig5),\n",
    "html.H4('Data Analysis using scatter matrix',style={'fontSize':'48px','textAlign':'center'}),  \n",
    "\n",
    "\n",
    "dcc.Dropdown(\n",
    "    id = 'dropdown',\n",
    "    options=[\n",
    "            {'label': 'TotalDeaths', 'value': 'TotalDeaths'},\n",
    "            {'label': 'TotalCases', 'value': 'TotalCases'},\n",
    "            {'label': 'ActiveCases', 'value': 'ActiveCases'},\n",
    "    ],\n",
    "    value='TotalDeaths',\n",
    "    style={'width': '50%', 'display': 'inline-block'}\n",
    "),\n",
    "dcc.Graph(id='covid-graph')\n",
    "])\n",
    "@app.callback(\n",
    "    Output('covid-graph','figure'),\n",
    "    Input('dropdown','value'),\n",
    ")\n",
    "def update_bar_chart(selected_value,):\n",
    "    if selected_value not in ['TotalDeaths', 'TotalCases', 'ActiveCases']:\n",
    "        raise ValueError(f\"Invalid value: {selected_value}\")\n",
    "    #filtered_data = data3[data3['Country/Region'] == selected_country]\n",
    "    #filtered_data = filtered_data.dropna(subset=[selected_value])\n",
    "    fig5 = px.scatter_geo(data3,\n",
    "                        locations='Country/Region',\n",
    "                        locationmode='country names',\n",
    "                        color='Continent',\n",
    "                        size=selected_value,\n",
    "                        hover_name='Country/Region',\n",
    "                        projection='natural earth',\n",
    "                        title=f'COVID-19 {selected_value} by Country')\n",
    "    \n",
    "    return fig5 \n",
    "\n",
    "\n",
    "app.run_server(debug=True, port=8051)\n"
   ]
  },
  {
   "cell_type": "code",
   "execution_count": 34,
   "metadata": {},
   "outputs": [],
   "source": []
  },
  {
   "cell_type": "code",
   "execution_count": null,
   "metadata": {},
   "outputs": [],
   "source": []
  },
  {
   "cell_type": "code",
   "execution_count": null,
   "metadata": {},
   "outputs": [],
   "source": []
  },
  {
   "cell_type": "code",
   "execution_count": null,
   "metadata": {},
   "outputs": [],
   "source": []
  },
  {
   "cell_type": "code",
   "execution_count": null,
   "metadata": {},
   "outputs": [],
   "source": []
  },
  {
   "cell_type": "code",
   "execution_count": null,
   "metadata": {},
   "outputs": [],
   "source": [
    "\n"
   ]
  },
  {
   "cell_type": "code",
   "execution_count": null,
   "metadata": {},
   "outputs": [],
   "source": []
  },
  {
   "cell_type": "code",
   "execution_count": null,
   "metadata": {},
   "outputs": [],
   "source": []
  },
  {
   "cell_type": "code",
   "execution_count": null,
   "metadata": {},
   "outputs": [],
   "source": []
  },
  {
   "cell_type": "code",
   "execution_count": null,
   "metadata": {},
   "outputs": [],
   "source": []
  }
 ],
 "metadata": {
  "kernelspec": {
   "display_name": "Python 3",
   "language": "python",
   "name": "python3"
  },
  "language_info": {
   "codemirror_mode": {
    "name": "ipython",
    "version": 3
   },
   "file_extension": ".py",
   "mimetype": "text/x-python",
   "name": "python",
   "nbconvert_exporter": "python",
   "pygments_lexer": "ipython3",
   "version": "3.11.9"
  }
 },
 "nbformat": 4,
 "nbformat_minor": 2
}
